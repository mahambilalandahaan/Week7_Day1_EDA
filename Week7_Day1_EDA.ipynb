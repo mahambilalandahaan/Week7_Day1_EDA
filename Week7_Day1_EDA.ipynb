{
  "nbformat": 4,
  "nbformat_minor": 0,
  "metadata": {
    "colab": {
      "provenance": []
    },
    "kernelspec": {
      "name": "python3",
      "display_name": "Python 3"
    },
    "language_info": {
      "name": "python"
    }
  },
  "cells": [
    {
      "cell_type": "code",
      "execution_count": null,
      "metadata": {
        "id": "94IN46yMRIXw"
      },
      "outputs": [],
      "source": [
        "#------EDA(Exploratory Data Analysis)------\n",
        "# 1. mount dat\n",
        "\n",
        "from google.colab  import drive\n",
        "drive.mount('/content/drive')\n",
        "import pandas as pd\n",
        "df=pd.read_csv('/content/drive/MyDrive/Colab Notebooks/spam.csv',encoding='utf-8')\n",
        "df.head()\n",
        "# 2.Exploratory Analysis\n",
        "\n",
        "df.info()\n",
        "df['label'].value_counts()\n",
        "df['label'].value_counts().plot(kind='bar')\n",
        "\n"
      ]
    },
    {
      "cell_type": "markdown",
      "source": [
        "# EDA: Load & Inspect Dataset\n",
        "# Visualize Spam vs Ham Counts"
      ],
      "metadata": {
        "id": "-y6rHmT_W6NK"
      }
    }
  ]
}